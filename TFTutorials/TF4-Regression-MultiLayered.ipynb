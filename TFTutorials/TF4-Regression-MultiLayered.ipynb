{
 "cells": [
  {
   "cell_type": "code",
   "execution_count": 15,
   "metadata": {
    "collapsed": true
   },
   "outputs": [],
   "source": [
    "import tensorflow as tf\n",
    "import numpy as np\n",
    "from sklearn.preprocessing import normalize\n",
    "from sklearn.preprocessing import StandardScaler\n",
    "from sklearn.preprocessing import scale\n",
    "from sklearn.datasets import load_boston\n",
    "from sklearn.metrics import r2_score"
   ]
  },
  {
   "cell_type": "code",
   "execution_count": 16,
   "metadata": {
    "collapsed": false
   },
   "outputs": [],
   "source": [
    "boston = load_boston()\n",
    "X = boston['data']\n",
    "y = boston['target']"
   ]
  },
  {
   "cell_type": "code",
   "execution_count": 17,
   "metadata": {
    "collapsed": false
   },
   "outputs": [],
   "source": [
    "from sklearn.model_selection import train_test_split\n",
    "X_train, X_test, y_train, y_test = \\\n",
    "    train_test_split(X, y, test_size=.25, random_state=42)\n",
    "    "
   ]
  },
  {
   "cell_type": "code",
   "execution_count": 18,
   "metadata": {
    "collapsed": false
   },
   "outputs": [],
   "source": [
    "n = X_train.shape[1]\n",
    "scaler = StandardScaler()\n",
    "X_train_scaled = scaler.fit_transform(X_train).astype(np.float32)"
   ]
  },
  {
   "cell_type": "code",
   "execution_count": 19,
   "metadata": {
    "collapsed": false
   },
   "outputs": [
    {
     "data": {
      "text/plain": [
       "dtype('float64')"
      ]
     },
     "execution_count": 19,
     "metadata": {},
     "output_type": "execute_result"
    }
   ],
   "source": [
    "X_train.dtype"
   ]
  },
  {
   "cell_type": "code",
   "execution_count": 20,
   "metadata": {
    "collapsed": false
   },
   "outputs": [],
   "source": [
    "with tf.name_scope(\"input\"):\n",
    "    # define variables\n",
    "    X = tf.placeholder(tf.float32, shape=[None, n], name='x')\n",
    "    y = tf.placeholder(tf.float32, shape=[None, 1], name='y')\n",
    "\n",
    "with tf.name_scope(\"regression\"):\n",
    "    # define variables\n",
    "    h = 20 # nodes in the hidden layer\n",
    "    W_1 = tf.Variable(tf.truncated_normal([n,h], dtype=tf.float32, stddev=.05), name='weights')\n",
    "    b_1 = tf.Variable(tf.zeros([h], dtype=tf.float32), name='biases')\n",
    "    \n",
    "    W_2 = tf.Variable(tf.truncated_normal([h,1], dtype=tf.float32, stddev=.05), name='weights')\n",
    "    b_2 = tf.Variable(tf.zeros([1], dtype=tf.float32), name='biases')\n",
    "\n",
    "    \n",
    "with tf.name_scope(\"operations\"):\n",
    "    # define LR expressions\n",
    "    l1 = tf.add(tf.matmul(X ,W_1), b_1)\n",
    "    y_pred = tf.add(tf.matmul(l1 ,W_2), b_2)\n",
    "    # linear_model = tf.matmul(X,W)\n",
    "    squared_error = tf.square(tf.subtract(y_pred, y))\n",
    "    loss = tf.reduce_sum(squared_error)\n",
    "    \n",
    "    # define optimization\n",
    "    learning_rate = tf.placeholder(tf.float32)\n",
    "    optimizer = tf.train.GradientDescentOptimizer(learning_rate=learning_rate)\n",
    "    train_op = optimizer.minimize(loss)\n"
   ]
  },
  {
   "cell_type": "code",
   "execution_count": 21,
   "metadata": {
    "collapsed": false
   },
   "outputs": [],
   "source": [
    "# tensorboard\n",
    "# creat a summary for x and y\n",
    "tf.summary.scalar(\"loss\", loss)\n",
    "summary_op = tf.summary.merge_all()\n",
    "\n",
    "# no need to specify graph\n",
    "writer = tf.summary.FileWriter('./example', graph=tf.get_default_graph()) "
   ]
  },
  {
   "cell_type": "code",
   "execution_count": 22,
   "metadata": {
    "collapsed": false
   },
   "outputs": [
    {
     "ename": "InvalidArgumentError",
     "evalue": "You must feed a value for placeholder tensor 'input/x' with dtype float\n\t [[Node: input/x = Placeholder[dtype=DT_FLOAT, shape=[], _device=\"/job:localhost/replica:0/task:0/cpu:0\"]()]]\n\nCaused by op 'input/x', defined at:\n  File \"/Users/lucasosouza/anaconda/envs/udacity/lib/python3.5/runpy.py\", line 184, in _run_module_as_main\n    \"__main__\", mod_spec)\n  File \"/Users/lucasosouza/anaconda/envs/udacity/lib/python3.5/runpy.py\", line 85, in _run_code\n    exec(code, run_globals)\n  File \"/Users/lucasosouza/anaconda/envs/udacity/lib/python3.5/site-packages/ipykernel/__main__.py\", line 3, in <module>\n    app.launch_new_instance()\n  File \"/Users/lucasosouza/anaconda/envs/udacity/lib/python3.5/site-packages/traitlets/config/application.py\", line 653, in launch_instance\n    app.start()\n  File \"/Users/lucasosouza/anaconda/envs/udacity/lib/python3.5/site-packages/ipykernel/kernelapp.py\", line 474, in start\n    ioloop.IOLoop.instance().start()\n  File \"/Users/lucasosouza/anaconda/envs/udacity/lib/python3.5/site-packages/zmq/eventloop/ioloop.py\", line 162, in start\n    super(ZMQIOLoop, self).start()\n  File \"/Users/lucasosouza/anaconda/envs/udacity/lib/python3.5/site-packages/tornado/ioloop.py\", line 887, in start\n    handler_func(fd_obj, events)\n  File \"/Users/lucasosouza/anaconda/envs/udacity/lib/python3.5/site-packages/tornado/stack_context.py\", line 275, in null_wrapper\n    return fn(*args, **kwargs)\n  File \"/Users/lucasosouza/anaconda/envs/udacity/lib/python3.5/site-packages/zmq/eventloop/zmqstream.py\", line 440, in _handle_events\n    self._handle_recv()\n  File \"/Users/lucasosouza/anaconda/envs/udacity/lib/python3.5/site-packages/zmq/eventloop/zmqstream.py\", line 472, in _handle_recv\n    self._run_callback(callback, msg)\n  File \"/Users/lucasosouza/anaconda/envs/udacity/lib/python3.5/site-packages/zmq/eventloop/zmqstream.py\", line 414, in _run_callback\n    callback(*args, **kwargs)\n  File \"/Users/lucasosouza/anaconda/envs/udacity/lib/python3.5/site-packages/tornado/stack_context.py\", line 275, in null_wrapper\n    return fn(*args, **kwargs)\n  File \"/Users/lucasosouza/anaconda/envs/udacity/lib/python3.5/site-packages/ipykernel/kernelbase.py\", line 276, in dispatcher\n    return self.dispatch_shell(stream, msg)\n  File \"/Users/lucasosouza/anaconda/envs/udacity/lib/python3.5/site-packages/ipykernel/kernelbase.py\", line 228, in dispatch_shell\n    handler(stream, idents, msg)\n  File \"/Users/lucasosouza/anaconda/envs/udacity/lib/python3.5/site-packages/ipykernel/kernelbase.py\", line 390, in execute_request\n    user_expressions, allow_stdin)\n  File \"/Users/lucasosouza/anaconda/envs/udacity/lib/python3.5/site-packages/ipykernel/ipkernel.py\", line 196, in do_execute\n    res = shell.run_cell(code, store_history=store_history, silent=silent)\n  File \"/Users/lucasosouza/anaconda/envs/udacity/lib/python3.5/site-packages/ipykernel/zmqshell.py\", line 501, in run_cell\n    return super(ZMQInteractiveShell, self).run_cell(*args, **kwargs)\n  File \"/Users/lucasosouza/anaconda/envs/udacity/lib/python3.5/site-packages/IPython/core/interactiveshell.py\", line 2717, in run_cell\n    interactivity=interactivity, compiler=compiler, result=result)\n  File \"/Users/lucasosouza/anaconda/envs/udacity/lib/python3.5/site-packages/IPython/core/interactiveshell.py\", line 2821, in run_ast_nodes\n    if self.run_code(code, result):\n  File \"/Users/lucasosouza/anaconda/envs/udacity/lib/python3.5/site-packages/IPython/core/interactiveshell.py\", line 2881, in run_code\n    exec(code_obj, self.user_global_ns, self.user_ns)\n  File \"<ipython-input-6-23452a9fa3d5>\", line 3, in <module>\n    X = tf.placeholder(tf.float32, shape=[None, n], name='x')\n  File \"/Users/lucasosouza/anaconda/envs/udacity/lib/python3.5/site-packages/tensorflow/python/ops/array_ops.py\", line 1502, in placeholder\n    name=name)\n  File \"/Users/lucasosouza/anaconda/envs/udacity/lib/python3.5/site-packages/tensorflow/python/ops/gen_array_ops.py\", line 2149, in _placeholder\n    name=name)\n  File \"/Users/lucasosouza/anaconda/envs/udacity/lib/python3.5/site-packages/tensorflow/python/framework/op_def_library.py\", line 763, in apply_op\n    op_def=op_def)\n  File \"/Users/lucasosouza/anaconda/envs/udacity/lib/python3.5/site-packages/tensorflow/python/framework/ops.py\", line 2327, in create_op\n    original_op=self._default_original_op, op_def=op_def)\n  File \"/Users/lucasosouza/anaconda/envs/udacity/lib/python3.5/site-packages/tensorflow/python/framework/ops.py\", line 1226, in __init__\n    self._traceback = _extract_stack()\n\nInvalidArgumentError (see above for traceback): You must feed a value for placeholder tensor 'input/x' with dtype float\n\t [[Node: input/x = Placeholder[dtype=DT_FLOAT, shape=[], _device=\"/job:localhost/replica:0/task:0/cpu:0\"]()]]\n",
     "output_type": "error",
     "traceback": [
      "\u001b[0;31m---------------------------------------------------------------------------\u001b[0m",
      "\u001b[0;31mInvalidArgumentError\u001b[0m                      Traceback (most recent call last)",
      "\u001b[0;32m/Users/lucasosouza/anaconda/envs/udacity/lib/python3.5/site-packages/tensorflow/python/client/session.py\u001b[0m in \u001b[0;36m_do_call\u001b[0;34m(self, fn, *args)\u001b[0m\n\u001b[1;32m   1021\u001b[0m     \u001b[0;32mtry\u001b[0m\u001b[0;34m:\u001b[0m\u001b[0;34m\u001b[0m\u001b[0m\n\u001b[0;32m-> 1022\u001b[0;31m       \u001b[0;32mreturn\u001b[0m \u001b[0mfn\u001b[0m\u001b[0;34m(\u001b[0m\u001b[0;34m*\u001b[0m\u001b[0margs\u001b[0m\u001b[0;34m)\u001b[0m\u001b[0;34m\u001b[0m\u001b[0m\n\u001b[0m\u001b[1;32m   1023\u001b[0m     \u001b[0;32mexcept\u001b[0m \u001b[0merrors\u001b[0m\u001b[0;34m.\u001b[0m\u001b[0mOpError\u001b[0m \u001b[0;32mas\u001b[0m \u001b[0me\u001b[0m\u001b[0;34m:\u001b[0m\u001b[0;34m\u001b[0m\u001b[0m\n",
      "\u001b[0;32m/Users/lucasosouza/anaconda/envs/udacity/lib/python3.5/site-packages/tensorflow/python/client/session.py\u001b[0m in \u001b[0;36m_run_fn\u001b[0;34m(session, feed_dict, fetch_list, target_list, options, run_metadata)\u001b[0m\n\u001b[1;32m   1003\u001b[0m                                  \u001b[0mfeed_dict\u001b[0m\u001b[0;34m,\u001b[0m \u001b[0mfetch_list\u001b[0m\u001b[0;34m,\u001b[0m \u001b[0mtarget_list\u001b[0m\u001b[0;34m,\u001b[0m\u001b[0;34m\u001b[0m\u001b[0m\n\u001b[0;32m-> 1004\u001b[0;31m                                  status, run_metadata)\n\u001b[0m\u001b[1;32m   1005\u001b[0m \u001b[0;34m\u001b[0m\u001b[0m\n",
      "\u001b[0;32m/Users/lucasosouza/anaconda/envs/udacity/lib/python3.5/contextlib.py\u001b[0m in \u001b[0;36m__exit__\u001b[0;34m(self, type, value, traceback)\u001b[0m\n\u001b[1;32m     65\u001b[0m             \u001b[0;32mtry\u001b[0m\u001b[0;34m:\u001b[0m\u001b[0;34m\u001b[0m\u001b[0m\n\u001b[0;32m---> 66\u001b[0;31m                 \u001b[0mnext\u001b[0m\u001b[0;34m(\u001b[0m\u001b[0mself\u001b[0m\u001b[0;34m.\u001b[0m\u001b[0mgen\u001b[0m\u001b[0;34m)\u001b[0m\u001b[0;34m\u001b[0m\u001b[0m\n\u001b[0m\u001b[1;32m     67\u001b[0m             \u001b[0;32mexcept\u001b[0m \u001b[0mStopIteration\u001b[0m\u001b[0;34m:\u001b[0m\u001b[0;34m\u001b[0m\u001b[0m\n",
      "\u001b[0;32m/Users/lucasosouza/anaconda/envs/udacity/lib/python3.5/site-packages/tensorflow/python/framework/errors_impl.py\u001b[0m in \u001b[0;36mraise_exception_on_not_ok_status\u001b[0;34m()\u001b[0m\n\u001b[1;32m    465\u001b[0m           \u001b[0mcompat\u001b[0m\u001b[0;34m.\u001b[0m\u001b[0mas_text\u001b[0m\u001b[0;34m(\u001b[0m\u001b[0mpywrap_tensorflow\u001b[0m\u001b[0;34m.\u001b[0m\u001b[0mTF_Message\u001b[0m\u001b[0;34m(\u001b[0m\u001b[0mstatus\u001b[0m\u001b[0;34m)\u001b[0m\u001b[0;34m)\u001b[0m\u001b[0;34m,\u001b[0m\u001b[0;34m\u001b[0m\u001b[0m\n\u001b[0;32m--> 466\u001b[0;31m           pywrap_tensorflow.TF_GetCode(status))\n\u001b[0m\u001b[1;32m    467\u001b[0m   \u001b[0;32mfinally\u001b[0m\u001b[0;34m:\u001b[0m\u001b[0;34m\u001b[0m\u001b[0m\n",
      "\u001b[0;31mInvalidArgumentError\u001b[0m: You must feed a value for placeholder tensor 'input/x' with dtype float\n\t [[Node: input/x = Placeholder[dtype=DT_FLOAT, shape=[], _device=\"/job:localhost/replica:0/task:0/cpu:0\"]()]]",
      "\nDuring handling of the above exception, another exception occurred:\n",
      "\u001b[0;31mInvalidArgumentError\u001b[0m                      Traceback (most recent call last)",
      "\u001b[0;32m<ipython-input-22-632f9920bf89>\u001b[0m in \u001b[0;36m<module>\u001b[0;34m()\u001b[0m\n\u001b[1;32m     13\u001b[0m     }\n\u001b[1;32m     14\u001b[0m     \u001b[0;31m# run\u001b[0m\u001b[0;34m\u001b[0m\u001b[0;34m\u001b[0m\u001b[0m\n\u001b[0;32m---> 15\u001b[0;31m     \u001b[0mcurr_loss\u001b[0m\u001b[0;34m,\u001b[0m \u001b[0m_\u001b[0m\u001b[0;34m,\u001b[0m \u001b[0msummary\u001b[0m \u001b[0;34m=\u001b[0m \u001b[0msess\u001b[0m\u001b[0;34m.\u001b[0m\u001b[0mrun\u001b[0m\u001b[0;34m(\u001b[0m\u001b[0;34m[\u001b[0m\u001b[0mloss\u001b[0m\u001b[0;34m,\u001b[0m \u001b[0mtrain_op\u001b[0m\u001b[0;34m,\u001b[0m \u001b[0msummary_op\u001b[0m\u001b[0;34m]\u001b[0m\u001b[0;34m,\u001b[0m \u001b[0mfeed_dict\u001b[0m\u001b[0;34m)\u001b[0m\u001b[0;34m\u001b[0m\u001b[0m\n\u001b[0m\u001b[1;32m     16\u001b[0m \u001b[0;34m\u001b[0m\u001b[0m\n\u001b[1;32m     17\u001b[0m     \u001b[0;31m# log results\u001b[0m\u001b[0;34m\u001b[0m\u001b[0;34m\u001b[0m\u001b[0m\n",
      "\u001b[0;32m/Users/lucasosouza/anaconda/envs/udacity/lib/python3.5/site-packages/tensorflow/python/client/session.py\u001b[0m in \u001b[0;36mrun\u001b[0;34m(self, fetches, feed_dict, options, run_metadata)\u001b[0m\n\u001b[1;32m    765\u001b[0m     \u001b[0;32mtry\u001b[0m\u001b[0;34m:\u001b[0m\u001b[0;34m\u001b[0m\u001b[0m\n\u001b[1;32m    766\u001b[0m       result = self._run(None, fetches, feed_dict, options_ptr,\n\u001b[0;32m--> 767\u001b[0;31m                          run_metadata_ptr)\n\u001b[0m\u001b[1;32m    768\u001b[0m       \u001b[0;32mif\u001b[0m \u001b[0mrun_metadata\u001b[0m\u001b[0;34m:\u001b[0m\u001b[0;34m\u001b[0m\u001b[0m\n\u001b[1;32m    769\u001b[0m         \u001b[0mproto_data\u001b[0m \u001b[0;34m=\u001b[0m \u001b[0mtf_session\u001b[0m\u001b[0;34m.\u001b[0m\u001b[0mTF_GetBuffer\u001b[0m\u001b[0;34m(\u001b[0m\u001b[0mrun_metadata_ptr\u001b[0m\u001b[0;34m)\u001b[0m\u001b[0;34m\u001b[0m\u001b[0m\n",
      "\u001b[0;32m/Users/lucasosouza/anaconda/envs/udacity/lib/python3.5/site-packages/tensorflow/python/client/session.py\u001b[0m in \u001b[0;36m_run\u001b[0;34m(self, handle, fetches, feed_dict, options, run_metadata)\u001b[0m\n\u001b[1;32m    963\u001b[0m     \u001b[0;32mif\u001b[0m \u001b[0mfinal_fetches\u001b[0m \u001b[0;32mor\u001b[0m \u001b[0mfinal_targets\u001b[0m\u001b[0;34m:\u001b[0m\u001b[0;34m\u001b[0m\u001b[0m\n\u001b[1;32m    964\u001b[0m       results = self._do_run(handle, final_targets, final_fetches,\n\u001b[0;32m--> 965\u001b[0;31m                              feed_dict_string, options, run_metadata)\n\u001b[0m\u001b[1;32m    966\u001b[0m     \u001b[0;32melse\u001b[0m\u001b[0;34m:\u001b[0m\u001b[0;34m\u001b[0m\u001b[0m\n\u001b[1;32m    967\u001b[0m       \u001b[0mresults\u001b[0m \u001b[0;34m=\u001b[0m \u001b[0;34m[\u001b[0m\u001b[0;34m]\u001b[0m\u001b[0;34m\u001b[0m\u001b[0m\n",
      "\u001b[0;32m/Users/lucasosouza/anaconda/envs/udacity/lib/python3.5/site-packages/tensorflow/python/client/session.py\u001b[0m in \u001b[0;36m_do_run\u001b[0;34m(self, handle, target_list, fetch_list, feed_dict, options, run_metadata)\u001b[0m\n\u001b[1;32m   1013\u001b[0m     \u001b[0;32mif\u001b[0m \u001b[0mhandle\u001b[0m \u001b[0;32mis\u001b[0m \u001b[0;32mNone\u001b[0m\u001b[0;34m:\u001b[0m\u001b[0;34m\u001b[0m\u001b[0m\n\u001b[1;32m   1014\u001b[0m       return self._do_call(_run_fn, self._session, feed_dict, fetch_list,\n\u001b[0;32m-> 1015\u001b[0;31m                            target_list, options, run_metadata)\n\u001b[0m\u001b[1;32m   1016\u001b[0m     \u001b[0;32melse\u001b[0m\u001b[0;34m:\u001b[0m\u001b[0;34m\u001b[0m\u001b[0m\n\u001b[1;32m   1017\u001b[0m       return self._do_call(_prun_fn, self._session, handle, feed_dict,\n",
      "\u001b[0;32m/Users/lucasosouza/anaconda/envs/udacity/lib/python3.5/site-packages/tensorflow/python/client/session.py\u001b[0m in \u001b[0;36m_do_call\u001b[0;34m(self, fn, *args)\u001b[0m\n\u001b[1;32m   1033\u001b[0m         \u001b[0;32mexcept\u001b[0m \u001b[0mKeyError\u001b[0m\u001b[0;34m:\u001b[0m\u001b[0;34m\u001b[0m\u001b[0m\n\u001b[1;32m   1034\u001b[0m           \u001b[0;32mpass\u001b[0m\u001b[0;34m\u001b[0m\u001b[0m\n\u001b[0;32m-> 1035\u001b[0;31m       \u001b[0;32mraise\u001b[0m \u001b[0mtype\u001b[0m\u001b[0;34m(\u001b[0m\u001b[0me\u001b[0m\u001b[0;34m)\u001b[0m\u001b[0;34m(\u001b[0m\u001b[0mnode_def\u001b[0m\u001b[0;34m,\u001b[0m \u001b[0mop\u001b[0m\u001b[0;34m,\u001b[0m \u001b[0mmessage\u001b[0m\u001b[0;34m)\u001b[0m\u001b[0;34m\u001b[0m\u001b[0m\n\u001b[0m\u001b[1;32m   1036\u001b[0m \u001b[0;34m\u001b[0m\u001b[0m\n\u001b[1;32m   1037\u001b[0m   \u001b[0;32mdef\u001b[0m \u001b[0m_extend_graph\u001b[0m\u001b[0;34m(\u001b[0m\u001b[0mself\u001b[0m\u001b[0;34m)\u001b[0m\u001b[0;34m:\u001b[0m\u001b[0;34m\u001b[0m\u001b[0m\n",
      "\u001b[0;31mInvalidArgumentError\u001b[0m: You must feed a value for placeholder tensor 'input/x' with dtype float\n\t [[Node: input/x = Placeholder[dtype=DT_FLOAT, shape=[], _device=\"/job:localhost/replica:0/task:0/cpu:0\"]()]]\n\nCaused by op 'input/x', defined at:\n  File \"/Users/lucasosouza/anaconda/envs/udacity/lib/python3.5/runpy.py\", line 184, in _run_module_as_main\n    \"__main__\", mod_spec)\n  File \"/Users/lucasosouza/anaconda/envs/udacity/lib/python3.5/runpy.py\", line 85, in _run_code\n    exec(code, run_globals)\n  File \"/Users/lucasosouza/anaconda/envs/udacity/lib/python3.5/site-packages/ipykernel/__main__.py\", line 3, in <module>\n    app.launch_new_instance()\n  File \"/Users/lucasosouza/anaconda/envs/udacity/lib/python3.5/site-packages/traitlets/config/application.py\", line 653, in launch_instance\n    app.start()\n  File \"/Users/lucasosouza/anaconda/envs/udacity/lib/python3.5/site-packages/ipykernel/kernelapp.py\", line 474, in start\n    ioloop.IOLoop.instance().start()\n  File \"/Users/lucasosouza/anaconda/envs/udacity/lib/python3.5/site-packages/zmq/eventloop/ioloop.py\", line 162, in start\n    super(ZMQIOLoop, self).start()\n  File \"/Users/lucasosouza/anaconda/envs/udacity/lib/python3.5/site-packages/tornado/ioloop.py\", line 887, in start\n    handler_func(fd_obj, events)\n  File \"/Users/lucasosouza/anaconda/envs/udacity/lib/python3.5/site-packages/tornado/stack_context.py\", line 275, in null_wrapper\n    return fn(*args, **kwargs)\n  File \"/Users/lucasosouza/anaconda/envs/udacity/lib/python3.5/site-packages/zmq/eventloop/zmqstream.py\", line 440, in _handle_events\n    self._handle_recv()\n  File \"/Users/lucasosouza/anaconda/envs/udacity/lib/python3.5/site-packages/zmq/eventloop/zmqstream.py\", line 472, in _handle_recv\n    self._run_callback(callback, msg)\n  File \"/Users/lucasosouza/anaconda/envs/udacity/lib/python3.5/site-packages/zmq/eventloop/zmqstream.py\", line 414, in _run_callback\n    callback(*args, **kwargs)\n  File \"/Users/lucasosouza/anaconda/envs/udacity/lib/python3.5/site-packages/tornado/stack_context.py\", line 275, in null_wrapper\n    return fn(*args, **kwargs)\n  File \"/Users/lucasosouza/anaconda/envs/udacity/lib/python3.5/site-packages/ipykernel/kernelbase.py\", line 276, in dispatcher\n    return self.dispatch_shell(stream, msg)\n  File \"/Users/lucasosouza/anaconda/envs/udacity/lib/python3.5/site-packages/ipykernel/kernelbase.py\", line 228, in dispatch_shell\n    handler(stream, idents, msg)\n  File \"/Users/lucasosouza/anaconda/envs/udacity/lib/python3.5/site-packages/ipykernel/kernelbase.py\", line 390, in execute_request\n    user_expressions, allow_stdin)\n  File \"/Users/lucasosouza/anaconda/envs/udacity/lib/python3.5/site-packages/ipykernel/ipkernel.py\", line 196, in do_execute\n    res = shell.run_cell(code, store_history=store_history, silent=silent)\n  File \"/Users/lucasosouza/anaconda/envs/udacity/lib/python3.5/site-packages/ipykernel/zmqshell.py\", line 501, in run_cell\n    return super(ZMQInteractiveShell, self).run_cell(*args, **kwargs)\n  File \"/Users/lucasosouza/anaconda/envs/udacity/lib/python3.5/site-packages/IPython/core/interactiveshell.py\", line 2717, in run_cell\n    interactivity=interactivity, compiler=compiler, result=result)\n  File \"/Users/lucasosouza/anaconda/envs/udacity/lib/python3.5/site-packages/IPython/core/interactiveshell.py\", line 2821, in run_ast_nodes\n    if self.run_code(code, result):\n  File \"/Users/lucasosouza/anaconda/envs/udacity/lib/python3.5/site-packages/IPython/core/interactiveshell.py\", line 2881, in run_code\n    exec(code_obj, self.user_global_ns, self.user_ns)\n  File \"<ipython-input-6-23452a9fa3d5>\", line 3, in <module>\n    X = tf.placeholder(tf.float32, shape=[None, n], name='x')\n  File \"/Users/lucasosouza/anaconda/envs/udacity/lib/python3.5/site-packages/tensorflow/python/ops/array_ops.py\", line 1502, in placeholder\n    name=name)\n  File \"/Users/lucasosouza/anaconda/envs/udacity/lib/python3.5/site-packages/tensorflow/python/ops/gen_array_ops.py\", line 2149, in _placeholder\n    name=name)\n  File \"/Users/lucasosouza/anaconda/envs/udacity/lib/python3.5/site-packages/tensorflow/python/framework/op_def_library.py\", line 763, in apply_op\n    op_def=op_def)\n  File \"/Users/lucasosouza/anaconda/envs/udacity/lib/python3.5/site-packages/tensorflow/python/framework/ops.py\", line 2327, in create_op\n    original_op=self._default_original_op, op_def=op_def)\n  File \"/Users/lucasosouza/anaconda/envs/udacity/lib/python3.5/site-packages/tensorflow/python/framework/ops.py\", line 1226, in __init__\n    self._traceback = _extract_stack()\n\nInvalidArgumentError (see above for traceback): You must feed a value for placeholder tensor 'input/x' with dtype float\n\t [[Node: input/x = Placeholder[dtype=DT_FLOAT, shape=[], _device=\"/job:localhost/replica:0/task:0/cpu:0\"]()]]\n"
     ]
    }
   ],
   "source": [
    "# run it\n",
    "epochs=100\n",
    "\n",
    "sess = tf.Session()\n",
    "init = tf.global_variables_initializer()\n",
    "sess.run(init)\n",
    "for epoch in range(1, epochs):\n",
    "    # loss, summary  = sess.run([train_op, summary_op], feed_dict)\n",
    "    feed_dict = {\n",
    "        X: X_train_scaled.reshape(-1,n),\n",
    "        y: y_train.reshape(-1,1),\n",
    "        learning_rate: 2e-3/epoch\n",
    "    }\n",
    "    # run\n",
    "    curr_loss, _, summary = sess.run([loss, train_op, summary_op], feed_dict)\n",
    "\n",
    "    # log results\n",
    "    writer.add_summary(summary)\n",
    "    \n",
    "    # log to console\n",
    "    if epoch%(epochs/10) == 0:\n",
    "        pred = sess.run(y_pred, feed_dict)\n",
    "        r2 = r2_score(y_train, pred)\n",
    "        print(\"Epoch: {}, R2: {:.2f}, loss: {:.2f} \".format(epoch, r2, curr_loss))\n",
    "\n"
   ]
  },
  {
   "cell_type": "code",
   "execution_count": 23,
   "metadata": {
    "collapsed": false
   },
   "outputs": [],
   "source": [
    "feed_dict = {\n",
    "    X: X_train_scaled,\n",
    "    y: y_train.reshape(-1,1),\n",
    "    learning_rate: 2e-3/epoch\n",
    "}\n",
    "w = sess.run(W_1, feed_dict)"
   ]
  },
  {
   "cell_type": "code",
   "execution_count": 24,
   "metadata": {
    "collapsed": false
   },
   "outputs": [
    {
     "data": {
      "text/plain": [
       "array([[  4.16840136e-01,   1.95900247e-01,  -1.56326726e-01,\n",
       "         -4.96789157e-01,  -1.75619144e-02,   2.36935169e-03,\n",
       "          3.28534812e-01,   2.09008455e-02,  -1.76126242e-01,\n",
       "         -1.69829413e-01,   1.30436234e-02,  -3.38850729e-02,\n",
       "         -3.74969959e-01,   2.70154715e-01,   5.44375442e-02,\n",
       "         -2.05823883e-01,  -3.27914625e-01,  -1.02491423e-01,\n",
       "         -1.47605583e-01,   3.75189960e-01],\n",
       "       [ -3.91185850e-01,  -1.52103260e-01,   2.19410472e-02,\n",
       "          4.20197695e-01,  -3.81154940e-03,   6.56564906e-02,\n",
       "         -3.28731745e-01,  -1.29624277e-01,   2.47792333e-01,\n",
       "          4.26407717e-02,   3.33748125e-02,   8.99324045e-02,\n",
       "          3.48215252e-01,  -2.06498221e-01,  -4.28259149e-02,\n",
       "          1.36714071e-01,   1.70370296e-01,   5.09395339e-02,\n",
       "          7.28384182e-02,  -3.17241013e-01],\n",
       "       [  5.15105069e-01,   1.41286999e-01,  -1.86305642e-01,\n",
       "         -5.51450729e-01,  -1.24171399e-01,  -1.36639997e-02,\n",
       "          4.87481028e-01,   1.43202662e-01,  -3.03332716e-01,\n",
       "         -7.63585791e-02,  -3.97219099e-02,  -1.05117649e-01,\n",
       "         -4.45469499e-01,   2.87942201e-01,   1.67326495e-01,\n",
       "         -1.68086767e-01,  -3.13588142e-01,  -7.85132274e-02,\n",
       "         -2.36474246e-01,   5.14362395e-01],\n",
       "       [ -2.20945954e-01,  -9.21884403e-02,   7.66833723e-02,\n",
       "          2.64022291e-01,   5.07306419e-02,  -8.45235959e-03,\n",
       "         -9.37783048e-02,  -7.76344240e-02,   1.71463564e-01,\n",
       "          4.23375517e-03,  -2.02730969e-02,  -1.42181069e-02,\n",
       "          2.38305837e-01,  -9.06412303e-02,  -1.84065662e-02,\n",
       "          1.03643440e-01,   1.89061388e-01,  -1.33933686e-02,\n",
       "          1.44482821e-01,  -1.90809727e-01],\n",
       "       [  4.66583133e-01,   1.92176729e-01,  -1.65585101e-01,\n",
       "         -4.43963319e-01,  -2.51322147e-02,  -2.78399475e-02,\n",
       "          4.50314701e-01,   1.37195081e-01,  -1.91075638e-01,\n",
       "         -1.93560235e-02,  -5.17482758e-02,  -1.04444005e-01,\n",
       "         -3.28453839e-01,   3.38409126e-01,  -1.43254399e-02,\n",
       "         -2.35267222e-01,  -3.22655469e-01,  -5.19862138e-02,\n",
       "         -1.29627571e-01,   3.58463377e-01],\n",
       "       [ -9.15680587e-01,  -3.60600442e-01,   1.92912325e-01,\n",
       "          9.27109420e-01,   7.22455308e-02,   1.71276063e-01,\n",
       "         -6.85548842e-01,  -1.99637830e-01,   3.78560752e-01,\n",
       "          3.89800444e-02,   1.37793273e-03,   1.27497420e-01,\n",
       "          6.18234038e-01,  -3.32074344e-01,  -9.18695703e-02,\n",
       "          3.95283729e-01,   6.44042432e-01,   5.98381385e-02,\n",
       "          3.61971617e-01,  -7.20210254e-01],\n",
       "       [  4.80316043e-01,   2.36153752e-01,  -9.49294642e-02,\n",
       "         -4.63471413e-01,  -5.31426556e-02,  -4.65665609e-02,\n",
       "          3.42741162e-01,   1.46129414e-01,  -2.54970372e-01,\n",
       "         -7.88085088e-02,  -2.25952361e-02,  -1.46488786e-01,\n",
       "         -3.19020927e-01,   3.01201165e-01,   2.44050287e-02,\n",
       "         -1.33240372e-01,  -2.23217934e-01,  -7.16645122e-02,\n",
       "         -9.57437456e-02,   3.18882346e-01],\n",
       "       [ -2.45060593e-01,  -8.49441662e-02,   8.04421902e-02,\n",
       "          2.31692657e-01,  -1.43635208e-02,   6.89569041e-02,\n",
       "         -1.81776494e-01,  -3.21031138e-02,   2.05118269e-01,\n",
       "          1.91931352e-02,  -4.99544814e-02,   5.01581877e-02,\n",
       "          1.87885404e-01,  -2.17328846e-01,  -1.12918735e-01,\n",
       "          1.88847035e-01,   2.07260877e-01,   2.65681744e-03,\n",
       "          9.05141979e-02,  -2.43895650e-01],\n",
       "       [  5.48091531e-01,   1.54772088e-01,  -1.28299430e-01,\n",
       "         -3.94471377e-01,  -9.50639322e-03,  -2.17668787e-02,\n",
       "          3.38308662e-01,   1.76009685e-01,  -2.55399287e-01,\n",
       "         -2.91426443e-02,  -6.36321008e-02,  -1.19320184e-01,\n",
       "         -3.53554517e-01,   2.49723479e-01,   1.98510773e-02,\n",
       "         -2.22506240e-01,  -2.07322359e-01,  -1.10834762e-01,\n",
       "         -1.69366091e-01,   3.32641333e-01],\n",
       "       [  6.29406869e-01,   2.84512639e-01,  -1.13844104e-01,\n",
       "         -5.62485695e-01,  -7.33996741e-03,  -2.68059373e-02,\n",
       "          4.08179939e-01,   1.41514912e-01,  -2.82333553e-01,\n",
       "         -1.83164477e-02,   1.24929622e-02,  -4.29467820e-02,\n",
       "         -4.17134076e-01,   3.01785916e-01,   7.03218579e-03,\n",
       "         -2.31609076e-01,  -3.01553965e-01,  -9.30676460e-02,\n",
       "         -2.07430631e-01,   4.69568282e-01],\n",
       "       [  6.18476450e-01,   1.72741413e-01,  -1.45379797e-01,\n",
       "         -6.33299947e-01,  -2.31891070e-02,  -1.20151252e-01,\n",
       "          4.15449142e-01,   1.85706019e-01,  -2.66086459e-01,\n",
       "         -9.83167142e-02,  -8.73956829e-04,  -2.04319730e-02,\n",
       "         -4.58886832e-01,   2.85696357e-01,   8.85704532e-02,\n",
       "         -2.21806169e-01,  -4.04024661e-01,  -6.44640923e-02,\n",
       "         -2.35847101e-01,   5.36518633e-01],\n",
       "       [ -3.93420368e-01,  -1.56927437e-01,   1.06018409e-01,\n",
       "          4.21453506e-01,   5.27347475e-02,   8.04490522e-02,\n",
       "         -2.17724755e-01,  -6.93104342e-02,   1.59863740e-01,\n",
       "          7.10170567e-02,   3.47320139e-02,   1.99715719e-02,\n",
       "          2.80582637e-01,  -2.57669270e-01,  -6.17074408e-02,\n",
       "          2.18056858e-01,   1.98083609e-01,   5.62718734e-02,\n",
       "          1.62821546e-01,  -3.73562485e-01],\n",
       "       [  8.55847061e-01,   3.74341607e-01,  -2.28718191e-01,\n",
       "         -8.17178667e-01,  -4.93594408e-02,  -2.00133577e-01,\n",
       "          6.80190086e-01,   1.41678944e-01,  -4.44461823e-01,\n",
       "         -1.93325818e-01,  -4.16111425e-02,  -1.68436125e-01,\n",
       "         -6.35700285e-01,   4.13579375e-01,   1.74355850e-01,\n",
       "         -4.01653171e-01,  -6.65127635e-01,  -1.53295189e-01,\n",
       "         -3.13705504e-01,   6.72862291e-01]], dtype=float32)"
      ]
     },
     "execution_count": 24,
     "metadata": {},
     "output_type": "execute_result"
    }
   ],
   "source": [
    "w"
   ]
  },
  {
   "cell_type": "code",
   "execution_count": null,
   "metadata": {
    "collapsed": false
   },
   "outputs": [],
   "source": [
    "feed_dict = {\n",
    "    X: scaler.transform(X_test),\n",
    "    y: y_test.reshape(-1,1)\n",
    "}\n",
    "curr_loss, pred = sess.run([loss, y_pred], feed_dict)\n",
    "r2 = r2_score(y_test, pred)\n",
    "print(\"R2: {:.2f}, loss: {:.2f} \".format(r2, curr_loss))\n"
   ]
  },
  {
   "cell_type": "markdown",
   "metadata": {
    "collapsed": true
   },
   "source": [
    "# In scikit-learn"
   ]
  },
  {
   "cell_type": "code",
   "execution_count": null,
   "metadata": {
    "collapsed": false
   },
   "outputs": [],
   "source": [
    "from sklearn.linear_model import LinearRegression\n",
    "reg = LinearRegression()\n",
    "reg.fit(X_train_scaled, y_train)"
   ]
  },
  {
   "cell_type": "code",
   "execution_count": null,
   "metadata": {
    "collapsed": false
   },
   "outputs": [],
   "source": [
    "reg.predict(scaler.transform(X_test))\n",
    "r2 = r2_score(y_test, pred)\n",
    "curr_loss = reg.residues_\n",
    "print(\"R2: {:.2f}, loss: {:.2f} \".format(r2, curr_loss))\n"
   ]
  },
  {
   "cell_type": "code",
   "execution_count": null,
   "metadata": {
    "collapsed": true
   },
   "outputs": [],
   "source": []
  }
 ],
 "metadata": {
  "anaconda-cloud": {},
  "kernelspec": {
   "display_name": "Python [conda env:udacity]",
   "language": "python",
   "name": "conda-env-udacity-py"
  },
  "language_info": {
   "codemirror_mode": {
    "name": "ipython",
    "version": 3
   },
   "file_extension": ".py",
   "mimetype": "text/x-python",
   "name": "python",
   "nbconvert_exporter": "python",
   "pygments_lexer": "ipython3",
   "version": "3.5.2"
  }
 },
 "nbformat": 4,
 "nbformat_minor": 1
}
