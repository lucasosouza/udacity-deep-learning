{
 "cells": [
  {
   "cell_type": "code",
   "execution_count": 1,
   "metadata": {
    "collapsed": true
   },
   "outputs": [],
   "source": [
    "import tensorflow as tf\n",
    "import numpy as np\n",
    "from sklearn.preprocessing import normalize\n",
    "from sklearn.preprocessing import StandardScaler\n",
    "from sklearn.preprocessing import scale\n",
    "from sklearn.datasets import load_boston\n",
    "from sklearn.datasets import load_breast_cancer\n",
    "from sklearn.metrics import r2_score\n",
    "from sklearn.metrics import accuracy_score\n",
    "from sklearn.model_selection import train_test_split"
   ]
  },
  {
   "cell_type": "code",
   "execution_count": 2,
   "metadata": {
    "collapsed": false
   },
   "outputs": [],
   "source": [
    "dataset = load_breast_cancer()\n",
    "data = dataset['data']\n",
    "target = dataset['target']\n",
    "X_train, X_test, y_train, y_test = \\\n",
    "    train_test_split(data, target, test_size=.25, random_state=42)\n",
    "    "
   ]
  },
  {
   "cell_type": "code",
   "execution_count": 3,
   "metadata": {
    "collapsed": false
   },
   "outputs": [],
   "source": [
    "n = X_train.shape[1]\n",
    "scaler = StandardScaler()\n",
    "X_train_scaled = scaler.fit_transform(X_train).astype(np.float32)"
   ]
  },
  {
   "cell_type": "code",
   "execution_count": 4,
   "metadata": {
    "collapsed": false
   },
   "outputs": [
    {
     "data": {
      "text/plain": [
       "array([-0.3491385 , -1.4385134 , -0.41172594, -0.39047945, -1.86366224,\n",
       "       -1.26860702, -0.8261705 , -0.95286584, -1.72936809, -0.9415409 ,\n",
       "       -0.86971354, -1.35865343, -0.83481508, -0.57230675, -0.74586844,\n",
       "       -0.65398318, -0.52583522, -0.94677144, -0.5378173 , -0.6344946 ,\n",
       "       -0.54268485, -1.65565455, -0.58986402, -0.52555984, -1.51066923,\n",
       "       -0.89149994, -0.75021714, -0.91671062, -0.92508584, -0.80841112], dtype=float32)"
      ]
     },
     "execution_count": 4,
     "metadata": {},
     "output_type": "execute_result"
    }
   ],
   "source": [
    "X_train_scaled[0]"
   ]
  },
  {
   "cell_type": "code",
   "execution_count": 60,
   "metadata": {
    "collapsed": false
   },
   "outputs": [],
   "source": [
    "tf.reset_default_graph()\n",
    "\n",
    "with tf.name_scope(\"input\"):\n",
    "    # define variables\n",
    "    X = tf.placeholder(tf.float32, shape=[None, n], name='x')\n",
    "    y = tf.placeholder(tf.float32, shape=[None, 1], name='y')\n",
    "\n",
    "with tf.name_scope(\"regression\"):\n",
    "    # define variables\n",
    "    W = tf.Variable(tf.truncated_normal([n,1], dtype=tf.float32, stddev=.05), name='weights')\n",
    "    b = tf.Variable(tf.zeros([1], dtype=tf.float32), name='biases')\n",
    "    \n",
    "with tf.name_scope(\"operations\"):\n",
    "    # regular calculation of pred, similar to linear regression\n",
    "    st1 = tf.add(tf.matmul(X ,W), b)\n",
    "    \n",
    "    # sigmoid converts from 0 to 1\n",
    "    y_pred = tf.nn.sigmoid(st1)\n",
    "        \n",
    "    # compute regular error functions\n",
    "    squared_error = tf.square(tf.subtract(y_pred, y))\n",
    "    loss = tf.reduce_sum(squared_error)\n",
    "    \n",
    "    # result, needs to be 0 or 1\n",
    "    res = tf.round(y_pred)\n",
    "    \n",
    "    # define optimization\n",
    "    learning_rate = tf.placeholder(tf.float32)\n",
    "    optimizer = tf.train.GradientDescentOptimizer(learning_rate=learning_rate)\n",
    "    train_op = optimizer.minimize(loss)\n"
   ]
  },
  {
   "cell_type": "code",
   "execution_count": 61,
   "metadata": {
    "collapsed": false
   },
   "outputs": [],
   "source": [
    "# tensorboard\n",
    "# creat a summary for x and y\n",
    "tf.summary.scalar(\"loss\", loss)\n",
    "summary_op = tf.summary.merge_all()\n",
    "\n",
    "# no need to specify graph\n",
    "writer = tf.summary.FileWriter('./example', graph=tf.get_default_graph()) "
   ]
  },
  {
   "cell_type": "code",
   "execution_count": 62,
   "metadata": {
    "collapsed": false
   },
   "outputs": [
    {
     "name": "stdout",
     "output_type": "stream",
     "text": [
      "Acc: 0.96, loss: 20.84 \n",
      "Acc: 0.97, loss: 20.05 \n",
      "Acc: 0.97, loss: 19.64 \n",
      "Acc: 0.97, loss: 19.37 \n",
      "Acc: 0.97, loss: 19.17 \n",
      "Acc: 0.97, loss: 19.01 \n",
      "Acc: 0.97, loss: 18.88 \n",
      "Acc: 0.97, loss: 18.77 \n",
      "Acc: 0.97, loss: 18.68 \n"
     ]
    }
   ],
   "source": [
    "# run it\n",
    "epochs=1000\n",
    "sess = tf.Session()\n",
    "init = tf.global_variables_initializer()\n",
    "sess.run(init)\n",
    "for epoch in range(1, epochs):\n",
    "    # loss, summary  = sess.run([train_op, summary_op], feed_dict)\n",
    "    feed_dict = {\n",
    "        X: X_train_scaled,\n",
    "        y: y_train.reshape(-1,1),\n",
    "        learning_rate: .002/epoch\n",
    "    }\n",
    "    # run\n",
    "    _, summary = sess.run([train_op, summary_op], feed_dict)\n",
    "\n",
    "    # log results\n",
    "    writer.add_summary(summary)\n",
    "    \n",
    "    # log to console\n",
    "    if epoch%(epochs/10) == 0:\n",
    "        curr_loss, curr_W, curr_b, pred = sess.run([loss, W, b, y_pred], feed_dict)\n",
    "        # print(curr_loss)\n",
    "        curr_loss, pred = sess.run([loss, res], feed_dict)\n",
    "        acc = accuracy_score(y_train, pred)\n",
    "        print(\"Acc: {:.2f}, loss: {:.2f} \".format(acc, curr_loss))\n",
    "\n"
   ]
  },
  {
   "cell_type": "code",
   "execution_count": 63,
   "metadata": {
    "collapsed": false
   },
   "outputs": [
    {
     "data": {
      "text/plain": [
       "(array([[ 1.],\n",
       "        [ 0.],\n",
       "        [ 1.],\n",
       "        [ 0.],\n",
       "        [ 0.],\n",
       "        [ 0.],\n",
       "        [ 1.],\n",
       "        [ 0.],\n",
       "        [ 1.],\n",
       "        [ 1.]], dtype=float32), array([1, 0, 1, 0, 0, 0, 1, 0, 1, 1]))"
      ]
     },
     "execution_count": 63,
     "metadata": {},
     "output_type": "execute_result"
    }
   ],
   "source": [
    "np.bincount(pred.astype(np.int32).reshape(-1))\n",
    "pred[:10], y_train[:10]"
   ]
  },
  {
   "cell_type": "code",
   "execution_count": 64,
   "metadata": {
    "collapsed": false
   },
   "outputs": [
    {
     "data": {
      "text/plain": [
       "(array([  1.28900000e+01,   1.31200000e+01,   8.18900000e+01,\n",
       "          5.15900000e+02,   6.95500000e-02,   3.72900000e-02,\n",
       "          2.26000000e-02,   1.17100000e-02,   1.33700000e-01,\n",
       "          5.58100000e-02,   1.53200000e-01,   4.69000000e-01,\n",
       "          1.11500000e+00,   1.26800000e+01,   4.73100000e-03,\n",
       "          1.34500000e-02,   1.65200000e-02,   5.90500000e-03,\n",
       "          1.61900000e-02,   2.08100000e-03,   1.36200000e+01,\n",
       "          1.55400000e+01,   8.74000000e+01,   5.77000000e+02,\n",
       "          9.61600000e-02,   1.14700000e-01,   1.18600000e-01,\n",
       "          5.36600000e-02,   2.30900000e-01,   6.91500000e-02]),\n",
       " array([-0.21686573, -0.17670448, -0.3008979 , -0.17692585, -0.06934768,\n",
       "        -0.13862576, -0.26156288, -0.20703599, -0.08494963,  0.10557546,\n",
       "        -0.17599268,  0.05136869, -0.12630957, -0.14625683,  0.01987111,\n",
       "         0.03724913,  0.01506586, -0.03765457,  0.00518631,  0.03934653,\n",
       "        -0.26747426, -0.21415108, -0.26601493, -0.27641252, -0.21696471,\n",
       "        -0.08370928, -0.17215244, -0.14835417, -0.20142466, -0.00649503], dtype=float32),\n",
       " array([-312.86802229]))"
      ]
     },
     "execution_count": 64,
     "metadata": {},
     "output_type": "execute_result"
    }
   ],
   "source": [
    "X_train[0], curr_W[:, 0], np.dot(X_train, curr_W)[0]"
   ]
  },
  {
   "cell_type": "code",
   "execution_count": 65,
   "metadata": {
    "collapsed": false
   },
   "outputs": [
    {
     "name": "stdout",
     "output_type": "stream",
     "text": [
      "Acc: 0.9671, loss: 18.59 \n",
      "Acc: 0.9790, loss: 5.11 \n"
     ]
    }
   ],
   "source": [
    "feed_dict = {\n",
    "    X: scaler.transform(X_train),\n",
    "    y: y_train.reshape(-1,1)\n",
    "}\n",
    "curr_loss, pred = sess.run([loss, res], feed_dict)\n",
    "acc = accuracy_score(y_train, pred)\n",
    "print(\"Acc: {:.4f}, loss: {:.2f} \".format(acc, curr_loss))\n",
    "\n",
    "feed_dict = {\n",
    "    X: scaler.transform(X_test),\n",
    "    y: y_test.reshape(-1,1)\n",
    "}\n",
    "curr_loss, pred = sess.run([loss, res], feed_dict)\n",
    "acc = accuracy_score(y_test, pred)\n",
    "print(\"Acc: {:.4f}, loss: {:.2f} \".format(acc, curr_loss))\n"
   ]
  },
  {
   "cell_type": "markdown",
   "metadata": {
    "collapsed": true
   },
   "source": [
    "# In scikit-learn"
   ]
  },
  {
   "cell_type": "code",
   "execution_count": 80,
   "metadata": {
    "collapsed": false
   },
   "outputs": [
    {
     "data": {
      "text/plain": [
       "SVC(C=1.0, cache_size=200, class_weight=None, coef0=0.0,\n",
       "  decision_function_shape=None, degree=3, gamma='auto', kernel='linear',\n",
       "  max_iter=-1, probability=False, random_state=None, shrinking=True,\n",
       "  tol=0.001, verbose=False)"
      ]
     },
     "execution_count": 80,
     "metadata": {},
     "output_type": "execute_result"
    }
   ],
   "source": [
    "from sklearn.svm import SVC\n",
    "clf = SVC(kernel='linear')\n",
    "clf.fit(X_train, y_train)"
   ]
  },
  {
   "cell_type": "code",
   "execution_count": 81,
   "metadata": {
    "collapsed": false
   },
   "outputs": [
    {
     "name": "stdout",
     "output_type": "stream",
     "text": [
      "Acc: 0.9695\n"
     ]
    }
   ],
   "source": [
    "pred = clf.predict(X_train)\n",
    "acc = accuracy_score(y_train, pred)\n",
    "print(\"Acc: {:.4f}\".format(acc))\n"
   ]
  },
  {
   "cell_type": "code",
   "execution_count": 82,
   "metadata": {
    "collapsed": false
   },
   "outputs": [
    {
     "name": "stdout",
     "output_type": "stream",
     "text": [
      "Acc: 0.9580\n"
     ]
    }
   ],
   "source": [
    "pred = clf.predict(X_test)\n",
    "acc = accuracy_score(y_test, pred)\n",
    "print(\"Acc: {:.4f}\".format(acc))\n"
   ]
  },
  {
   "cell_type": "code",
   "execution_count": 83,
   "metadata": {
    "collapsed": false
   },
   "outputs": [
    {
     "data": {
      "text/plain": [
       "(array([  1.28900000e+01,   1.31200000e+01,   8.18900000e+01,\n",
       "          5.15900000e+02,   6.95500000e-02,   3.72900000e-02,\n",
       "          2.26000000e-02,   1.17100000e-02,   1.33700000e-01,\n",
       "          5.58100000e-02,   1.53200000e-01,   4.69000000e-01,\n",
       "          1.11500000e+00,   1.26800000e+01,   4.73100000e-03,\n",
       "          1.34500000e-02,   1.65200000e-02,   5.90500000e-03,\n",
       "          1.61900000e-02,   2.08100000e-03,   1.36200000e+01,\n",
       "          1.55400000e+01,   8.74000000e+01,   5.77000000e+02,\n",
       "          9.61600000e-02,   1.14700000e-01,   1.18600000e-01,\n",
       "          5.36600000e-02,   2.30900000e-01,   6.91500000e-02]),\n",
       " array([[ 1.29403182,  0.18630806, -0.26510877,  0.00381304, -0.23469085,\n",
       "         -0.31661328, -0.63018851, -0.38801023, -0.33400371, -0.05324722,\n",
       "         -0.22329099,  1.98995163,  0.5314017 , -0.1216217 , -0.03877839,\n",
       "          0.03169099, -0.04367506, -0.04633437, -0.0634173 ,  0.00541859,\n",
       "         -0.3640177 , -0.38160754,  0.00858562,  0.00209213, -0.44857988,\n",
       "         -0.96877516, -1.57096602, -0.59976624, -1.27875325, -0.13664597]]),\n",
       " array([ 15.5088185]))"
      ]
     },
     "execution_count": 83,
     "metadata": {},
     "output_type": "execute_result"
    }
   ],
   "source": [
    "X_train[0], clf.coef_, clf.intercept_"
   ]
  },
  {
   "cell_type": "code",
   "execution_count": 84,
   "metadata": {
    "collapsed": false
   },
   "outputs": [
    {
     "data": {
      "text/plain": [
       "([(-0.21686573, 1.2940318166436668),\n",
       "  (-0.17670448, 0.18630805858555277),\n",
       "  (-0.3008979, -0.26510876545417261),\n",
       "  (-0.17692585, 0.0038130407408516476),\n",
       "  (-0.06934768, -0.23469085315994104),\n",
       "  (-0.13862576, -0.31661328459765403),\n",
       "  (-0.26156288, -0.63018850629549483),\n",
       "  (-0.20703599, -0.3880102334466336),\n",
       "  (-0.084949628, -0.33400370586719041),\n",
       "  (0.10557546, -0.053247224516927157),\n",
       "  (-0.17599268, -0.22329098962735511),\n",
       "  (0.051368695, 1.9899516330539277),\n",
       "  (-0.12630957, 0.53140170028773603),\n",
       "  (-0.14625683, -0.12162170000926409),\n",
       "  (0.019871106, -0.038778394675246207),\n",
       "  (0.037249129, 0.031690990788804205),\n",
       "  (0.015065859, -0.043675063950918719),\n",
       "  (-0.037654575, -0.046334366265279987),\n",
       "  (0.0051863068, -0.063417298637916467),\n",
       "  (0.039346531, 0.0054185856164800893),\n",
       "  (-0.26747426, -0.3640177012525676),\n",
       "  (-0.21415108, -0.3816075401627117),\n",
       "  (-0.26601493, 0.0085856164562869708),\n",
       "  (-0.27641252, 0.0020921327178484717),\n",
       "  (-0.21696471, -0.44857988478368283),\n",
       "  (-0.083709277, -0.96877515862296515),\n",
       "  (-0.17215244, -1.570966021673998),\n",
       "  (-0.14835417, -0.59976623623949876),\n",
       "  (-0.20142466, -1.2787532509969386),\n",
       "  (-0.0064950259, -0.13664597069133666)],\n",
       " [(0.16738984, 15.508818500728003)])"
      ]
     },
     "execution_count": 84,
     "metadata": {},
     "output_type": "execute_result"
    }
   ],
   "source": [
    "list(zip(curr_W[:, 0], clf.coef_[0, :])), list(zip(curr_b, clf.intercept_))"
   ]
  },
  {
   "cell_type": "code",
   "execution_count": null,
   "metadata": {
    "collapsed": true
   },
   "outputs": [],
   "source": []
  }
 ],
 "metadata": {
  "anaconda-cloud": {},
  "kernelspec": {
   "display_name": "Python [conda env:udacity]",
   "language": "python",
   "name": "conda-env-udacity-py"
  },
  "language_info": {
   "codemirror_mode": {
    "name": "ipython",
    "version": 3
   },
   "file_extension": ".py",
   "mimetype": "text/x-python",
   "name": "python",
   "nbconvert_exporter": "python",
   "pygments_lexer": "ipython3",
   "version": "3.5.2"
  }
 },
 "nbformat": 4,
 "nbformat_minor": 1
}
